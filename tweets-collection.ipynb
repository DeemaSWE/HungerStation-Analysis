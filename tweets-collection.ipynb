{
 "cells": [
  {
   "cell_type": "code",
   "execution_count": 1,
   "id": "61a41c98-3b01-46d0-bdad-ded077359c37",
   "metadata": {},
   "outputs": [],
   "source": [
    "import tweepy\n",
    "import pandas as pd\n",
    "import numpy as np\n",
    "import configparser\n",
    "import matplotlib.pyplot as plt"
   ]
  },
  {
   "cell_type": "markdown",
   "id": "56d2b986-6893-49ae-85f9-19f95b787fea",
   "metadata": {},
   "source": [
    "### 1. Configuration and Authentication \n",
    "---\n",
    "We start by creating a 'config.ini' and storing the access keys and bearer token in it, then we authinticate tweepy access by obtaining bearer token from 'config.ini' file "
   ]
  },
  {
   "cell_type": "code",
   "execution_count": 2,
   "id": "cc28d709-1fa8-490a-a60a-b4394b1cbe35",
   "metadata": {},
   "outputs": [],
   "source": [
    "# Read the file from 'config.ini' \n",
    "config = configparser.ConfigParser(interpolation=None)\n",
    "config.read('config.ini')\n",
    "\n",
    "# Get bearer token\n",
    "BEARER_TOKEN = config['twitter']['BEARER_TOKEN']\n",
    "\n",
    "# Tweepy Auathintication\n",
    "client = tweepy.Client(BEARER_TOKEN)\n"
   ]
  },
  {
   "cell_type": "markdown",
   "id": "5fbdc710-5715-45aa-9c64-aa01525d8eb7",
   "metadata": {
    "tags": []
   },
   "source": [
    "### 2. Data Collection\n",
    "---\n",
    "Next, we extract tweets by using Twitter API v2 endpoint. since we have Elevated access we can only use the recent search endpoint that returns tweets from the last 7 days with a maximum of 100 tweets per request. In order to collect as many tweets as possible, we used a paginator method that returns more results than can be returned in a single response. In our case, we set the to limit to 3000.\n",
    "\n",
    "Afterwards, we fetched the tweets using the specified query, stored them in a dataframe, and finally saved them to a.csv file."
   ]
  },
  {
   "cell_type": "code",
   "execution_count": 3,
   "id": "2df87bb0-e8fc-49cd-92d9-bdfaeae0b761",
   "metadata": {},
   "outputs": [],
   "source": [
    "tweets = [] # main dataframe\n",
    "data = [] \n",
    "columns_header = ['ID', 'Tweet', 'Timestamp', 'Likes', 'Retweets', 'Length']\n",
    "qr = '(#hungerstation OR هانقرستيشن OR #هانقرستيشن OR @hungerstation) -is:retweet'\n",
    "\n",
    "for tweet in tweepy.Paginator(client.search_recent_tweets, query=qr, tweet_fields=['created_at', 'public_metrics'], max_results=100).flatten(limit=3000):\n",
    "    data.append([tweet.id, tweet.text , tweet.created_at, tweet.public_metrics['like_count'], tweet.public_metrics['retweet_count'], len(tweet.text)])\n",
    "\n",
    "\n",
    "    \n",
    "# Export the tweets to .csv file        \n",
    "tweets = pd.DataFrame(data=data, columns=columns_header)\n",
    "tweets.to_csv('tweets.csv')"
   ]
  },
  {
   "cell_type": "markdown",
   "id": "4e414373-2d88-4019-8e7a-6271f218a44d",
   "metadata": {},
   "source": [
    "### 3. Preliminary Data Exploration"
   ]
  },
  {
   "cell_type": "code",
   "execution_count": 4,
   "id": "2a4713c8-f32a-4ea8-bd1b-7c65ca36cea0",
   "metadata": {},
   "outputs": [
    {
     "data": {
      "text/html": [
       "<div>\n",
       "<style scoped>\n",
       "    .dataframe tbody tr th:only-of-type {\n",
       "        vertical-align: middle;\n",
       "    }\n",
       "\n",
       "    .dataframe tbody tr th {\n",
       "        vertical-align: top;\n",
       "    }\n",
       "\n",
       "    .dataframe thead th {\n",
       "        text-align: right;\n",
       "    }\n",
       "</style>\n",
       "<table border=\"1\" class=\"dataframe\">\n",
       "  <thead>\n",
       "    <tr style=\"text-align: right;\">\n",
       "      <th></th>\n",
       "      <th>ID</th>\n",
       "      <th>Tweet</th>\n",
       "      <th>Timestamp</th>\n",
       "      <th>Likes</th>\n",
       "      <th>Retweets</th>\n",
       "      <th>Length</th>\n",
       "    </tr>\n",
       "  </thead>\n",
       "  <tbody>\n",
       "    <tr>\n",
       "      <th>0</th>\n",
       "      <td>1578344112624762881</td>\n",
       "      <td>@HungerStation في الثانية 0:32 \\nحلو الإعلان ع...</td>\n",
       "      <td>2022-10-07 11:18:55+00:00</td>\n",
       "      <td>0</td>\n",
       "      <td>0</td>\n",
       "      <td>68</td>\n",
       "    </tr>\n",
       "    <tr>\n",
       "      <th>1</th>\n",
       "      <td>1578343877345513474</td>\n",
       "      <td>@HungerStation البطل اللي أنقذ منتخبنا من المو...</td>\n",
       "      <td>2022-10-07 11:17:59+00:00</td>\n",
       "      <td>0</td>\n",
       "      <td>0</td>\n",
       "      <td>177</td>\n",
       "    </tr>\n",
       "    <tr>\n",
       "      <th>2</th>\n",
       "      <td>1578343487476756480</td>\n",
       "      <td>@HungerStation رد خاص</td>\n",
       "      <td>2022-10-07 11:16:26+00:00</td>\n",
       "      <td>0</td>\n",
       "      <td>0</td>\n",
       "      <td>21</td>\n",
       "    </tr>\n",
       "    <tr>\n",
       "      <th>3</th>\n",
       "      <td>1578343460201021443</td>\n",
       "      <td>@HungerStation البطل اللي أنقذ منتخبنا من المو...</td>\n",
       "      <td>2022-10-07 11:16:19+00:00</td>\n",
       "      <td>0</td>\n",
       "      <td>0</td>\n",
       "      <td>178</td>\n",
       "    </tr>\n",
       "    <tr>\n",
       "      <th>4</th>\n",
       "      <td>1578343381276585985</td>\n",
       "      <td>@HungerStation في الثانية 0:32</td>\n",
       "      <td>2022-10-07 11:16:00+00:00</td>\n",
       "      <td>0</td>\n",
       "      <td>0</td>\n",
       "      <td>30</td>\n",
       "    </tr>\n",
       "  </tbody>\n",
       "</table>\n",
       "</div>"
      ],
      "text/plain": [
       "                    ID                                              Tweet  \\\n",
       "0  1578344112624762881  @HungerStation في الثانية 0:32 \\nحلو الإعلان ع...   \n",
       "1  1578343877345513474  @HungerStation البطل اللي أنقذ منتخبنا من المو...   \n",
       "2  1578343487476756480                              @HungerStation رد خاص   \n",
       "3  1578343460201021443  @HungerStation البطل اللي أنقذ منتخبنا من المو...   \n",
       "4  1578343381276585985                     @HungerStation في الثانية 0:32   \n",
       "\n",
       "                  Timestamp  Likes  Retweets  Length  \n",
       "0 2022-10-07 11:18:55+00:00      0         0      68  \n",
       "1 2022-10-07 11:17:59+00:00      0         0     177  \n",
       "2 2022-10-07 11:16:26+00:00      0         0      21  \n",
       "3 2022-10-07 11:16:19+00:00      0         0     178  \n",
       "4 2022-10-07 11:16:00+00:00      0         0      30  "
      ]
     },
     "metadata": {},
     "output_type": "display_data"
    },
    {
     "data": {
      "text/html": [
       "<div>\n",
       "<style scoped>\n",
       "    .dataframe tbody tr th:only-of-type {\n",
       "        vertical-align: middle;\n",
       "    }\n",
       "\n",
       "    .dataframe tbody tr th {\n",
       "        vertical-align: top;\n",
       "    }\n",
       "\n",
       "    .dataframe thead th {\n",
       "        text-align: right;\n",
       "    }\n",
       "</style>\n",
       "<table border=\"1\" class=\"dataframe\">\n",
       "  <thead>\n",
       "    <tr style=\"text-align: right;\">\n",
       "      <th></th>\n",
       "      <th>ID</th>\n",
       "      <th>Tweet</th>\n",
       "      <th>Timestamp</th>\n",
       "      <th>Likes</th>\n",
       "      <th>Retweets</th>\n",
       "      <th>Length</th>\n",
       "    </tr>\n",
       "  </thead>\n",
       "  <tbody>\n",
       "    <tr>\n",
       "      <th>2995</th>\n",
       "      <td>1578021354565033987</td>\n",
       "      <td>@HungerStation في الدقيقة ٣٢ وهنقرستيشن فازع ل...</td>\n",
       "      <td>2022-10-06 13:56:23+00:00</td>\n",
       "      <td>0</td>\n",
       "      <td>0</td>\n",
       "      <td>82</td>\n",
       "    </tr>\n",
       "    <tr>\n",
       "      <th>2996</th>\n",
       "      <td>1578021313934807041</td>\n",
       "      <td>@HungerStation في الثانية 0:32 \\nحلو الإعلان ع...</td>\n",
       "      <td>2022-10-06 13:56:14+00:00</td>\n",
       "      <td>0</td>\n",
       "      <td>0</td>\n",
       "      <td>55</td>\n",
       "    </tr>\n",
       "    <tr>\n",
       "      <th>2997</th>\n",
       "      <td>1578021313318641664</td>\n",
       "      <td>@HungerStation في الثانيه ٣٢ بالدقيقه الاولى ❤...</td>\n",
       "      <td>2022-10-06 13:56:13+00:00</td>\n",
       "      <td>0</td>\n",
       "      <td>0</td>\n",
       "      <td>56</td>\n",
       "    </tr>\n",
       "    <tr>\n",
       "      <th>2998</th>\n",
       "      <td>1578021280413990912</td>\n",
       "      <td>@HungerStation الدقيقه الاوى  \\n.\\n\\n.\\n\\n.</td>\n",
       "      <td>2022-10-06 13:56:06+00:00</td>\n",
       "      <td>0</td>\n",
       "      <td>0</td>\n",
       "      <td>38</td>\n",
       "    </tr>\n",
       "    <tr>\n",
       "      <th>2999</th>\n",
       "      <td>1578021270091747334</td>\n",
       "      <td>@HungerStation @chefduha @hunger_care @HungerS...</td>\n",
       "      <td>2022-10-06 13:56:03+00:00</td>\n",
       "      <td>0</td>\n",
       "      <td>0</td>\n",
       "      <td>156</td>\n",
       "    </tr>\n",
       "  </tbody>\n",
       "</table>\n",
       "</div>"
      ],
      "text/plain": [
       "                       ID                                              Tweet  \\\n",
       "2995  1578021354565033987  @HungerStation في الدقيقة ٣٢ وهنقرستيشن فازع ل...   \n",
       "2996  1578021313934807041  @HungerStation في الثانية 0:32 \\nحلو الإعلان ع...   \n",
       "2997  1578021313318641664  @HungerStation في الثانيه ٣٢ بالدقيقه الاولى ❤...   \n",
       "2998  1578021280413990912        @HungerStation الدقيقه الاوى  \\n.\\n\\n.\\n\\n.   \n",
       "2999  1578021270091747334  @HungerStation @chefduha @hunger_care @HungerS...   \n",
       "\n",
       "                     Timestamp  Likes  Retweets  Length  \n",
       "2995 2022-10-06 13:56:23+00:00      0         0      82  \n",
       "2996 2022-10-06 13:56:14+00:00      0         0      55  \n",
       "2997 2022-10-06 13:56:13+00:00      0         0      56  \n",
       "2998 2022-10-06 13:56:06+00:00      0         0      38  \n",
       "2999 2022-10-06 13:56:03+00:00      0         0     156  "
      ]
     },
     "metadata": {},
     "output_type": "display_data"
    },
    {
     "name": "stdout",
     "output_type": "stream",
     "text": [
      "total of collected tweets is  3000\n"
     ]
    }
   ],
   "source": [
    "display(tweets.head())\n",
    "display(tweets.tail())\n",
    "print('total of collected tweets is ', len(tweets))"
   ]
  },
  {
   "cell_type": "code",
   "execution_count": 5,
   "id": "a1ccf044-b062-44d7-8f38-32bddbd7ab3a",
   "metadata": {},
   "outputs": [
    {
     "name": "stdout",
     "output_type": "stream",
     "text": [
      "<class 'pandas.core.frame.DataFrame'>\n",
      "RangeIndex: 3000 entries, 0 to 2999\n",
      "Data columns (total 6 columns):\n",
      " #   Column     Non-Null Count  Dtype              \n",
      "---  ------     --------------  -----              \n",
      " 0   ID         3000 non-null   int64              \n",
      " 1   Tweet      3000 non-null   object             \n",
      " 2   Timestamp  3000 non-null   datetime64[ns, UTC]\n",
      " 3   Likes      3000 non-null   int64              \n",
      " 4   Retweets   3000 non-null   int64              \n",
      " 5   Length     3000 non-null   int64              \n",
      "dtypes: datetime64[ns, UTC](1), int64(4), object(1)\n",
      "memory usage: 140.8+ KB\n"
     ]
    }
   ],
   "source": [
    "tweets.info()"
   ]
  },
  {
   "cell_type": "markdown",
   "id": "05c87540-a02f-423f-8b7a-b9ca4052ffa3",
   "metadata": {},
   "source": [
    "### 4. Data Visualization"
   ]
  },
  {
   "cell_type": "code",
   "execution_count": 6,
   "id": "c961440f-df49-4065-9449-a390a22af503",
   "metadata": {},
   "outputs": [
    {
     "data": {
      "image/png": "[encoded data removed]",
      "text/plain": [
       "<Figure size 432x288 with 1 Axes>"
      ]
     },
     "metadata": {
      "needs_background": "light"
     },
     "output_type": "display_data"
    }
   ],
   "source": [
    "plt.plot(tweets['Timestamp'], tweets['Likes'])\n",
    "plt.gcf().autofmt_xdate()\n",
    "plt.show()"
   ]
  },
  {
   "cell_type": "code",
   "execution_count": 7,
   "id": "0efb2794-d99d-4a09-9f1c-4fc3d14f695c",
   "metadata": {},
   "outputs": [
    {
     "data": {
      "image/png": "[encoded data removed]",
      "text/plain": [
       "<Figure size 432x288 with 1 Axes>"
      ]
     },
     "metadata": {
      "needs_background": "light"
     },
     "output_type": "display_data"
    }
   ],
   "source": [
    "plt.scatter(tweets['Length'], tweets['Likes'], color='pink')\n",
    "plt.show()"
   ]
  },
  {
   "cell_type": "code",
   "execution_count": 8,
   "id": "2f495ff5-d78e-404c-ad0b-d91ec02d1c6c",
   "metadata": {},
   "outputs": [
    {
     "data": {
      "image/png": "[encoded data removed]",
      "text/plain": [
       "<Figure size 432x288 with 1 Axes>"
      ]
     },
     "metadata": {
      "needs_background": "light"
     },
     "output_type": "display_data"
    }
   ],
   "source": [
    "plt.plot(tweets['Timestamp'], tweets['Retweets'])\n",
    "plt.gcf().autofmt_xdate()\n",
    "plt.show()"
   ]
  }
 ],
 "metadata": {
  "kernelspec": {
   "display_name": "Python 3 (ipykernel)",
   "language": "python",
   "name": "python3"
  },
  "language_info": {
   "codemirror_mode": {
    "name": "ipython",
    "version": 3
   },
   "file_extension": ".py",
   "mimetype": "text/x-python",
   "name": "python",
   "nbconvert_exporter": "python",
   "pygments_lexer": "ipython3",
   "version": "3.9.12"
  }
 },
 "nbformat": 4,
 "nbformat_minor": 5
}
