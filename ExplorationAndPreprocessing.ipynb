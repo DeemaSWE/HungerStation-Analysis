{
 "cells": [
  {
   "cell_type": "code",
   "execution_count": 1,
   "id": "acfe137d-fb07-4a99-98f0-2516615bca1d",
   "metadata": {},
   "outputs": [],
   "source": [
    "import pandas as pd"
   ]
  },
  {
   "cell_type": "markdown",
   "id": "8a7a0891-5254-4dbe-95e8-62a199a2557a",
   "metadata": {},
   "source": [
    "### Data Exploration\n",
    "---\n"
   ]
  },
  {
   "cell_type": "code",
   "execution_count": 2,
   "id": "005aba12",
   "metadata": {
    "id": "005aba12"
   },
   "outputs": [],
   "source": [
    "#Read file to do data exploration\n",
    "FileData = pd.read_csv(\"tweets.csv\")"
   ]
  },
  {
   "cell_type": "code",
   "execution_count": 3,
   "id": "fd166597",
   "metadata": {
    "id": "fd166597",
    "outputId": "b3d190e9-ebb6-4402-9a72-02810a143bff"
   },
   "outputs": [
    {
     "data": {
      "text/plain": [
       "10000"
      ]
     },
     "execution_count": 3,
     "metadata": {},
     "output_type": "execute_result"
    }
   ],
   "source": [
    "# number of dataset before clean \n",
    "len(FileData)"
   ]
  },
  {
   "cell_type": "code",
   "execution_count": 4,
   "id": "b64120c5",
   "metadata": {
    "id": "b64120c5",
    "outputId": "3ce6dcea-0c0a-4822-f780-ce98503cf2e9"
   },
   "outputs": [
    {
     "name": "stdout",
     "output_type": "stream",
     "text": [
      "(10000, 7)\n"
     ]
    }
   ],
   "source": [
    "#number of dataset rows and columns \n",
    "print(FileData.shape)"
   ]
  },
  {
   "cell_type": "code",
   "execution_count": 5,
   "id": "93e2902f",
   "metadata": {
    "id": "93e2902f",
    "outputId": "073e18c0-79bc-4d73-db66-53e6a901002b"
   },
   "outputs": [
    {
     "data": {
      "text/plain": [
       "Index(['Unnamed: 0', 'ID', 'Tweet', 'Timestamp', 'Likes', 'Retweets',\n",
       "       'Length'],\n",
       "      dtype='object')"
      ]
     },
     "execution_count": 5,
     "metadata": {},
     "output_type": "execute_result"
    }
   ],
   "source": [
    "#The columns title of dataset\n",
    "FileData.columns"
   ]
  },
  {
   "cell_type": "code",
   "execution_count": 6,
   "id": "7baa16c9",
   "metadata": {
    "id": "7baa16c9",
    "outputId": "814c5f44-a6d2-4f9a-cc04-99baf83d04b2"
   },
   "outputs": [
    {
     "data": {
      "text/plain": [
       "Unnamed: 0     int64\n",
       "ID             int64\n",
       "Tweet         object\n",
       "Timestamp     object\n",
       "Likes          int64\n",
       "Retweets       int64\n",
       "Length         int64\n",
       "dtype: object"
      ]
     },
     "execution_count": 6,
     "metadata": {},
     "output_type": "execute_result"
    }
   ],
   "source": [
    "#each column's data type:\n",
    "FileData.dtypes"
   ]
  },
  {
   "cell_type": "code",
   "execution_count": 7,
   "id": "87a6d109",
   "metadata": {
    "id": "87a6d109",
    "outputId": "08a7a139-b09a-437b-d20e-4d6a7c065d2b"
   },
   "outputs": [
    {
     "name": "stdout",
     "output_type": "stream",
     "text": [
      "<class 'pandas.core.frame.DataFrame'>\n",
      "RangeIndex: 10000 entries, 0 to 9999\n",
      "Data columns (total 7 columns):\n",
      " #   Column      Non-Null Count  Dtype \n",
      "---  ------      --------------  ----- \n",
      " 0   Unnamed: 0  10000 non-null  int64 \n",
      " 1   ID          10000 non-null  int64 \n",
      " 2   Tweet       10000 non-null  object\n",
      " 3   Timestamp   10000 non-null  object\n",
      " 4   Likes       10000 non-null  int64 \n",
      " 5   Retweets    10000 non-null  int64 \n",
      " 6   Length      10000 non-null  int64 \n",
      "dtypes: int64(5), object(2)\n",
      "memory usage: 547.0+ KB\n"
     ]
    }
   ],
   "source": [
    "#general Information about the dataset\n",
    "FileData.info()"
   ]
  },
  {
   "cell_type": "code",
   "execution_count": 8,
   "id": "83d6aaed",
   "metadata": {
    "id": "83d6aaed"
   },
   "outputs": [
    {
     "name": "stdout",
     "output_type": "stream",
     "text": [
      "Unnamed: 0    0\n",
      "ID            0\n",
      "Tweet         0\n",
      "Timestamp     0\n",
      "Likes         0\n",
      "Retweets      0\n",
      "Length        0\n",
      "dtype: int64\n"
     ]
    }
   ],
   "source": [
    "print(FileData.isnull().sum())"
   ]
  },
  {
   "cell_type": "markdown",
   "id": "eace2ab5-c4f4-4b98-b685-c6378911c455",
   "metadata": {},
   "source": [
    "### Data Preprocessing\n",
    "---\n"
   ]
  },
  {
   "cell_type": "markdown",
   "id": "f235417d-e0a1-4a1f-8dea-e58c0af8eb5a",
   "metadata": {},
   "source": [
    "Remove Duplicates Records"
   ]
  },
  {
   "cell_type": "code",
   "execution_count": 9,
   "id": "5c6a2d61-c9d8-4c9d-a07a-8429b178c3ae",
   "metadata": {},
   "outputs": [
    {
     "data": {
      "text/html": [
       "<div>\n",
       "<style scoped>\n",
       "    .dataframe tbody tr th:only-of-type {\n",
       "        vertical-align: middle;\n",
       "    }\n",
       "\n",
       "    .dataframe tbody tr th {\n",
       "        vertical-align: top;\n",
       "    }\n",
       "\n",
       "    .dataframe thead th {\n",
       "        text-align: right;\n",
       "    }\n",
       "</style>\n",
       "<table border=\"1\" class=\"dataframe\">\n",
       "  <thead>\n",
       "    <tr style=\"text-align: right;\">\n",
       "      <th></th>\n",
       "      <th>Unnamed: 0</th>\n",
       "      <th>ID</th>\n",
       "      <th>Tweet</th>\n",
       "      <th>Timestamp</th>\n",
       "      <th>Likes</th>\n",
       "      <th>Retweets</th>\n",
       "      <th>Length</th>\n",
       "    </tr>\n",
       "  </thead>\n",
       "  <tbody>\n",
       "    <tr>\n",
       "      <th>9955</th>\n",
       "      <td>9955</td>\n",
       "      <td>1577678237357989889</td>\n",
       "      <td>@@@مسترمندوب 😘💋👍 Mhd \\nمرسول🍑🍑🍑\\nجاهز🍒🍒🍒🍒🍒\\nهن...</td>\n",
       "      <td>2022-10-05 15:12:58+00:00</td>\n",
       "      <td>0</td>\n",
       "      <td>0</td>\n",
       "      <td>94</td>\n",
       "    </tr>\n",
       "    <tr>\n",
       "      <th>9956</th>\n",
       "      <td>9956</td>\n",
       "      <td>1577678235680358401</td>\n",
       "      <td>@@@مسترمندوب 😘💋👍 Mhd \\nمرسول🍑🍑🍑\\nجاهز🍒🍒🍒🍒🍒\\nهن...</td>\n",
       "      <td>2022-10-05 15:12:57+00:00</td>\n",
       "      <td>0</td>\n",
       "      <td>0</td>\n",
       "      <td>94</td>\n",
       "    </tr>\n",
       "    <tr>\n",
       "      <th>9959</th>\n",
       "      <td>9959</td>\n",
       "      <td>1577678167577329667</td>\n",
       "      <td>@HungerStation #منشن_اللي كل لعبه تسحيب</td>\n",
       "      <td>2022-10-05 15:12:41+00:00</td>\n",
       "      <td>0</td>\n",
       "      <td>0</td>\n",
       "      <td>39</td>\n",
       "    </tr>\n",
       "    <tr>\n",
       "      <th>9967</th>\n",
       "      <td>9967</td>\n",
       "      <td>1577677838920159232</td>\n",
       "      <td>لا تفوت كود تويو مثل هنقرستيشن يرجع 15-50 اول ...</td>\n",
       "      <td>2022-10-05 15:11:23+00:00</td>\n",
       "      <td>0</td>\n",
       "      <td>0</td>\n",
       "      <td>86</td>\n",
       "    </tr>\n",
       "    <tr>\n",
       "      <th>9990</th>\n",
       "      <td>9990</td>\n",
       "      <td>1577676818919964672</td>\n",
       "      <td>@HungerStation ؟</td>\n",
       "      <td>2022-10-05 15:07:20+00:00</td>\n",
       "      <td>0</td>\n",
       "      <td>0</td>\n",
       "      <td>16</td>\n",
       "    </tr>\n",
       "  </tbody>\n",
       "</table>\n",
       "</div>"
      ],
      "text/plain": [
       "      Unnamed: 0                   ID  \\\n",
       "9955        9955  1577678237357989889   \n",
       "9956        9956  1577678235680358401   \n",
       "9959        9959  1577678167577329667   \n",
       "9967        9967  1577677838920159232   \n",
       "9990        9990  1577676818919964672   \n",
       "\n",
       "                                                  Tweet  \\\n",
       "9955  @@@مسترمندوب 😘💋👍 Mhd \\nمرسول🍑🍑🍑\\nجاهز🍒🍒🍒🍒🍒\\nهن...   \n",
       "9956  @@@مسترمندوب 😘💋👍 Mhd \\nمرسول🍑🍑🍑\\nجاهز🍒🍒🍒🍒🍒\\nهن...   \n",
       "9959            @HungerStation #منشن_اللي كل لعبه تسحيب   \n",
       "9967  لا تفوت كود تويو مثل هنقرستيشن يرجع 15-50 اول ...   \n",
       "9990                                   @HungerStation ؟   \n",
       "\n",
       "                      Timestamp  Likes  Retweets  Length  \n",
       "9955  2022-10-05 15:12:58+00:00      0         0      94  \n",
       "9956  2022-10-05 15:12:57+00:00      0         0      94  \n",
       "9959  2022-10-05 15:12:41+00:00      0         0      39  \n",
       "9967  2022-10-05 15:11:23+00:00      0         0      86  \n",
       "9990  2022-10-05 15:07:20+00:00      0         0      16  "
      ]
     },
     "metadata": {},
     "output_type": "display_data"
    },
    {
     "name": "stdout",
     "output_type": "stream",
     "text": [
      "The number of duplicates is  2554\n"
     ]
    }
   ],
   "source": [
    "# Assess the number of duplicates in dataset\n",
    "duplicateTweets = FileData[FileData.duplicated('Tweet')]\n",
    "\n",
    "display(duplicateTweets.tail())\n",
    "print('The number of duplicates is ', len(duplicateTweets))"
   ]
  },
  {
   "cell_type": "code",
   "execution_count": 10,
   "id": "5b99f742-e056-40ee-8e40-e9c5e5a98431",
   "metadata": {},
   "outputs": [
    {
     "data": {
      "text/html": [
       "<div>\n",
       "<style scoped>\n",
       "    .dataframe tbody tr th:only-of-type {\n",
       "        vertical-align: middle;\n",
       "    }\n",
       "\n",
       "    .dataframe tbody tr th {\n",
       "        vertical-align: top;\n",
       "    }\n",
       "\n",
       "    .dataframe thead th {\n",
       "        text-align: right;\n",
       "    }\n",
       "</style>\n",
       "<table border=\"1\" class=\"dataframe\">\n",
       "  <thead>\n",
       "    <tr style=\"text-align: right;\">\n",
       "      <th></th>\n",
       "      <th>ID</th>\n",
       "      <th>Tweet</th>\n",
       "      <th>Timestamp</th>\n",
       "      <th>Likes</th>\n",
       "      <th>Retweets</th>\n",
       "      <th>Length</th>\n",
       "    </tr>\n",
       "  </thead>\n",
       "  <tbody>\n",
       "    <tr>\n",
       "      <th>0</th>\n",
       "      <td>1579452840237404161</td>\n",
       "      <td>#هنقرستيشن_كود وش رايك فيني و انا أضبطك مع هنق...</td>\n",
       "      <td>2022-10-10 12:44:36+00:00</td>\n",
       "      <td>0</td>\n",
       "      <td>0</td>\n",
       "      <td>165</td>\n",
       "    </tr>\n",
       "    <tr>\n",
       "      <th>1</th>\n",
       "      <td>1579452685044289536</td>\n",
       "      <td>@مسترمندوب           🌺 OWn 🌺 \\nمرسول🍠🥡🍠🥡🍠\\nجاه...</td>\n",
       "      <td>2022-10-10 12:43:59+00:00</td>\n",
       "      <td>0</td>\n",
       "      <td>0</td>\n",
       "      <td>108</td>\n",
       "    </tr>\n",
       "    <tr>\n",
       "      <th>2</th>\n",
       "      <td>1579452455254777857</td>\n",
       "      <td>@HungerStation ادخل الاقي التوصيل ب9 ريال! مال...</td>\n",
       "      <td>2022-10-10 12:43:04+00:00</td>\n",
       "      <td>0</td>\n",
       "      <td>0</td>\n",
       "      <td>64</td>\n",
       "    </tr>\n",
       "    <tr>\n",
       "      <th>3</th>\n",
       "      <td>1579452331099566081</td>\n",
       "      <td>كل عام وانتم بخير\\nمسترمندوب 🌷🌛OWn 🌷\\nمرسول🍿💖🍿...</td>\n",
       "      <td>2022-10-10 12:42:35+00:00</td>\n",
       "      <td>0</td>\n",
       "      <td>0</td>\n",
       "      <td>89</td>\n",
       "    </tr>\n",
       "    <tr>\n",
       "      <th>4</th>\n",
       "      <td>1579450892356812801</td>\n",
       "      <td>@HungerStation مافيه رقم طلب فيه فلوس اخذتوها ...</td>\n",
       "      <td>2022-10-10 12:36:52+00:00</td>\n",
       "      <td>0</td>\n",
       "      <td>0</td>\n",
       "      <td>54</td>\n",
       "    </tr>\n",
       "  </tbody>\n",
       "</table>\n",
       "</div>"
      ],
      "text/plain": [
       "                    ID                                              Tweet  \\\n",
       "0  1579452840237404161  #هنقرستيشن_كود وش رايك فيني و انا أضبطك مع هنق...   \n",
       "1  1579452685044289536  @مسترمندوب           🌺 OWn 🌺 \\nمرسول🍠🥡🍠🥡🍠\\nجاه...   \n",
       "2  1579452455254777857  @HungerStation ادخل الاقي التوصيل ب9 ريال! مال...   \n",
       "3  1579452331099566081  كل عام وانتم بخير\\nمسترمندوب 🌷🌛OWn 🌷\\nمرسول🍿💖🍿...   \n",
       "4  1579450892356812801  @HungerStation مافيه رقم طلب فيه فلوس اخذتوها ...   \n",
       "\n",
       "                   Timestamp  Likes  Retweets  Length  \n",
       "0  2022-10-10 12:44:36+00:00      0         0     165  \n",
       "1  2022-10-10 12:43:59+00:00      0         0     108  \n",
       "2  2022-10-10 12:43:04+00:00      0         0      64  \n",
       "3  2022-10-10 12:42:35+00:00      0         0      89  \n",
       "4  2022-10-10 12:36:52+00:00      0         0      54  "
      ]
     },
     "metadata": {},
     "output_type": "display_data"
    },
    {
     "data": {
      "text/html": [
       "<div>\n",
       "<style scoped>\n",
       "    .dataframe tbody tr th:only-of-type {\n",
       "        vertical-align: middle;\n",
       "    }\n",
       "\n",
       "    .dataframe tbody tr th {\n",
       "        vertical-align: top;\n",
       "    }\n",
       "\n",
       "    .dataframe thead th {\n",
       "        text-align: right;\n",
       "    }\n",
       "</style>\n",
       "<table border=\"1\" class=\"dataframe\">\n",
       "  <thead>\n",
       "    <tr style=\"text-align: right;\">\n",
       "      <th></th>\n",
       "      <th>ID</th>\n",
       "      <th>Tweet</th>\n",
       "      <th>Timestamp</th>\n",
       "      <th>Likes</th>\n",
       "      <th>Retweets</th>\n",
       "      <th>Length</th>\n",
       "    </tr>\n",
       "  </thead>\n",
       "  <tbody>\n",
       "    <tr>\n",
       "      <th>7441</th>\n",
       "      <td>1577676665664192515</td>\n",
       "      <td>@Dr_ksa2020 @HungerStation @MCgovSA اخيس تطبيق...</td>\n",
       "      <td>2022-10-05 15:06:43+00:00</td>\n",
       "      <td>0</td>\n",
       "      <td>0</td>\n",
       "      <td>152</td>\n",
       "    </tr>\n",
       "    <tr>\n",
       "      <th>7442</th>\n",
       "      <td>1577676664233934850</td>\n",
       "      <td>@HungerStation @_waheed20</td>\n",
       "      <td>2022-10-05 15:06:43+00:00</td>\n",
       "      <td>0</td>\n",
       "      <td>0</td>\n",
       "      <td>25</td>\n",
       "    </tr>\n",
       "    <tr>\n",
       "      <th>7443</th>\n",
       "      <td>1577676648870301697</td>\n",
       "      <td>@HungerStation .\\n.\\n@ro0o2005  😁😁</td>\n",
       "      <td>2022-10-05 15:06:39+00:00</td>\n",
       "      <td>2</td>\n",
       "      <td>1</td>\n",
       "      <td>32</td>\n",
       "    </tr>\n",
       "    <tr>\n",
       "      <th>7444</th>\n",
       "      <td>1577676622433509378</td>\n",
       "      <td>@HungerStation #منشن_اللي    \\n\\n❤️❤️❤️❤️❤️❤️</td>\n",
       "      <td>2022-10-05 15:06:33+00:00</td>\n",
       "      <td>0</td>\n",
       "      <td>0</td>\n",
       "      <td>43</td>\n",
       "    </tr>\n",
       "    <tr>\n",
       "      <th>7445</th>\n",
       "      <td>1577676595506159619</td>\n",
       "      <td>@HungerStation تم يارب من نصيبي</td>\n",
       "      <td>2022-10-05 15:06:26+00:00</td>\n",
       "      <td>0</td>\n",
       "      <td>0</td>\n",
       "      <td>31</td>\n",
       "    </tr>\n",
       "  </tbody>\n",
       "</table>\n",
       "</div>"
      ],
      "text/plain": [
       "                       ID                                              Tweet  \\\n",
       "7441  1577676665664192515  @Dr_ksa2020 @HungerStation @MCgovSA اخيس تطبيق...   \n",
       "7442  1577676664233934850                          @HungerStation @_waheed20   \n",
       "7443  1577676648870301697                 @HungerStation .\\n.\\n@ro0o2005  😁😁   \n",
       "7444  1577676622433509378      @HungerStation #منشن_اللي    \\n\\n❤️❤️❤️❤️❤️❤️   \n",
       "7445  1577676595506159619                    @HungerStation تم يارب من نصيبي   \n",
       "\n",
       "                      Timestamp  Likes  Retweets  Length  \n",
       "7441  2022-10-05 15:06:43+00:00      0         0     152  \n",
       "7442  2022-10-05 15:06:43+00:00      0         0      25  \n",
       "7443  2022-10-05 15:06:39+00:00      2         1      32  \n",
       "7444  2022-10-05 15:06:33+00:00      0         0      43  \n",
       "7445  2022-10-05 15:06:26+00:00      0         0      31  "
      ]
     },
     "metadata": {},
     "output_type": "display_data"
    },
    {
     "name": "stdout",
     "output_type": "stream",
     "text": [
      "Length after removing duplicates 7446\n"
     ]
    }
   ],
   "source": [
    "# Remove duplicates from dataset\n",
    "\n",
    "Final_tweets = FileData.drop_duplicates('Tweet').reset_index(drop=True).drop(['Unnamed: 0'], axis=1)\n",
    "\n",
    "display(Final_tweets.head())\n",
    "display(Final_tweets.tail())\n",
    "print(\"Length after removing duplicates\", len(Final_tweets))\n"
   ]
  },
  {
   "cell_type": "code",
   "execution_count": null,
   "id": "28d0dd13-8161-4330-987c-c6b44ea77e82",
   "metadata": {},
   "outputs": [],
   "source": []
  }
 ],
 "metadata": {
  "colab": {
   "provenance": []
  },
  "kernelspec": {
   "display_name": "Python 3 (ipykernel)",
   "language": "python",
   "name": "python3"
  },
  "language_info": {
   "codemirror_mode": {
    "name": "ipython",
    "version": 3
   },
   "file_extension": ".py",
   "mimetype": "text/x-python",
   "name": "python",
   "nbconvert_exporter": "python",
   "pygments_lexer": "ipython3",
   "version": "3.9.12"
  }
 },
 "nbformat": 4,
 "nbformat_minor": 5
}
