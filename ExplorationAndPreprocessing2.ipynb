{
 "cells": [
  {
   "cell_type": "code",
   "execution_count": 1,
   "id": "acfe137d-fb07-4a99-98f0-2516615bca1d",
   "metadata": {},
   "outputs": [],
   "source": [
    "import pandas as pd\n",
    "import re"
   ]
  },
  {
   "cell_type": "markdown",
   "id": "8a7a0891-5254-4dbe-95e8-62a199a2557a",
   "metadata": {},
   "source": [
    "### Data Exploration\n",
    "---\n"
   ]
  },
  {
   "cell_type": "code",
   "execution_count": 2,
   "id": "005aba12",
   "metadata": {
    "id": "005aba12"
   },
   "outputs": [],
   "source": [
    "#Read file to do data exploration\n",
    "FileData = pd.read_csv(\"tweets.csv\")"
   ]
  },
  {
   "cell_type": "code",
   "execution_count": 3,
   "id": "fd166597",
   "metadata": {
    "id": "fd166597",
    "outputId": "b3d190e9-ebb6-4402-9a72-02810a143bff"
   },
   "outputs": [
    {
     "data": {
      "text/plain": [
       "10000"
      ]
     },
     "execution_count": 3,
     "metadata": {},
     "output_type": "execute_result"
    }
   ],
   "source": [
    "# number of dataset before clean \n",
    "len(FileData)"
   ]
  },
  {
   "cell_type": "code",
   "execution_count": 4,
   "id": "b64120c5",
   "metadata": {
    "id": "b64120c5",
    "outputId": "3ce6dcea-0c0a-4822-f780-ce98503cf2e9"
   },
   "outputs": [
    {
     "name": "stdout",
     "output_type": "stream",
     "text": [
      "(10000, 7)\n"
     ]
    }
   ],
   "source": [
    "#number of dataset rows and columns \n",
    "print(FileData.shape)"
   ]
  },
  {
   "cell_type": "code",
   "execution_count": 5,
   "id": "93e2902f",
   "metadata": {
    "id": "93e2902f",
    "outputId": "073e18c0-79bc-4d73-db66-53e6a901002b"
   },
   "outputs": [
    {
     "data": {
      "text/plain": [
       "Index(['Unnamed: 0', 'ID', 'Tweet', 'Timestamp', 'Likes', 'Retweets',\n",
       "       'Length'],\n",
       "      dtype='object')"
      ]
     },
     "execution_count": 5,
     "metadata": {},
     "output_type": "execute_result"
    }
   ],
   "source": [
    "#The columns title of dataset\n",
    "FileData.columns"
   ]
  },
  {
   "cell_type": "code",
   "execution_count": 6,
   "id": "7baa16c9",
   "metadata": {
    "id": "7baa16c9",
    "outputId": "814c5f44-a6d2-4f9a-cc04-99baf83d04b2"
   },
   "outputs": [
    {
     "data": {
      "text/plain": [
       "Unnamed: 0     int64\n",
       "ID             int64\n",
       "Tweet         object\n",
       "Timestamp     object\n",
       "Likes          int64\n",
       "Retweets       int64\n",
       "Length         int64\n",
       "dtype: object"
      ]
     },
     "execution_count": 6,
     "metadata": {},
     "output_type": "execute_result"
    }
   ],
   "source": [
    "#each column's data type:\n",
    "FileData.dtypes"
   ]
  },
  {
   "cell_type": "code",
   "execution_count": 7,
   "id": "87a6d109",
   "metadata": {
    "id": "87a6d109",
    "outputId": "08a7a139-b09a-437b-d20e-4d6a7c065d2b"
   },
   "outputs": [
    {
     "name": "stdout",
     "output_type": "stream",
     "text": [
      "<class 'pandas.core.frame.DataFrame'>\n",
      "RangeIndex: 10000 entries, 0 to 9999\n",
      "Data columns (total 7 columns):\n",
      " #   Column      Non-Null Count  Dtype \n",
      "---  ------      --------------  ----- \n",
      " 0   Unnamed: 0  10000 non-null  int64 \n",
      " 1   ID          10000 non-null  int64 \n",
      " 2   Tweet       10000 non-null  object\n",
      " 3   Timestamp   10000 non-null  object\n",
      " 4   Likes       10000 non-null  int64 \n",
      " 5   Retweets    10000 non-null  int64 \n",
      " 6   Length      10000 non-null  int64 \n",
      "dtypes: int64(5), object(2)\n",
      "memory usage: 547.0+ KB\n"
     ]
    }
   ],
   "source": [
    "#general Information about the dataset\n",
    "FileData.info()"
   ]
  },
  {
   "cell_type": "code",
   "execution_count": 8,
   "id": "83d6aaed",
   "metadata": {
    "id": "83d6aaed"
   },
   "outputs": [
    {
     "name": "stdout",
     "output_type": "stream",
     "text": [
      "Unnamed: 0    0\n",
      "ID            0\n",
      "Tweet         0\n",
      "Timestamp     0\n",
      "Likes         0\n",
      "Retweets      0\n",
      "Length        0\n",
      "dtype: int64\n"
     ]
    }
   ],
   "source": [
    "print(FileData.isnull().sum())"
   ]
  },
  {
   "cell_type": "markdown",
   "id": "eace2ab5-c4f4-4b98-b685-c6378911c455",
   "metadata": {},
   "source": [
    "### Data Preprocessing\n",
    "---\n"
   ]
  },
  {
   "cell_type": "code",
   "execution_count": 9,
   "id": "3b31c9db-19f9-4490-ae6f-5f5c9d5fdb05",
   "metadata": {},
   "outputs": [],
   "source": [
    "# Remove links, emojis, hashtags and mentions \n",
    "def remove_emojis_links_unrelated_chars(tweet):\n",
    "    # convert hyperlinks to null\n",
    "    tweet = re.sub('((www\\.[^\\s]+)|(https?://[^\\s]+))', ' ', tweet)\n",
    "\n",
    "    # replace mentions and hashtags with null\n",
    "    tweet = re.sub('@[^\\s]+', ' ', tweet)\n",
    "    tweet = re.sub('#[^\\s]+', ' ', tweet)\n",
    "    \n",
    "    # remove everything except alphanumeric\n",
    "    tweet = re.sub('[/\\W+/g]', ' ',  tweet)\n",
    "    \n",
    "    # remove new lines with white space\n",
    "    tweet = tweet.replace('\\n', ' ')\n",
    "    tweet = tweet.replace('\\t', ' ')\n",
    "    tweet = tweet.replace('\\r', ' ')\n",
    "\n",
    "    return tweet"
   ]
  },
  {
   "cell_type": "code",
   "execution_count": 10,
   "id": "7f4ee0e8-6715-4339-8e29-e21320ea0c9c",
   "metadata": {},
   "outputs": [],
   "source": [
    "#This function apply all the cleaning functions we created to one tweet\n",
    "def clean_up(tweet):\n",
    "    tweet = remove_emojis_links_unrelated_chars(tweet)\n",
    "    #Add functions here ...\n",
    "    #tweet = function(tweet)\n",
    "    return tweet"
   ]
  },
  {
   "cell_type": "code",
   "execution_count": 11,
   "id": "bd5ca7f2-ebef-41d9-ac05-44c43fbd4438",
   "metadata": {},
   "outputs": [],
   "source": [
    "# To clean the tweet for every record in the dataset\n",
    "FileData[\"Tweet\"] = FileData[\"Tweet\"].apply(lambda tweet: clean_up(tweet))"
   ]
  },
  {
   "cell_type": "markdown",
   "id": "f235417d-e0a1-4a1f-8dea-e58c0af8eb5a",
   "metadata": {},
   "source": [
    " Lastly Remove Duplicates Records"
   ]
  },
  {
   "cell_type": "code",
   "execution_count": 12,
   "id": "5c6a2d61-c9d8-4c9d-a07a-8429b178c3ae",
   "metadata": {},
   "outputs": [
    {
     "data": {
      "text/html": [
       "<div>\n",
       "<style scoped>\n",
       "    .dataframe tbody tr th:only-of-type {\n",
       "        vertical-align: middle;\n",
       "    }\n",
       "\n",
       "    .dataframe tbody tr th {\n",
       "        vertical-align: top;\n",
       "    }\n",
       "\n",
       "    .dataframe thead th {\n",
       "        text-align: right;\n",
       "    }\n",
       "</style>\n",
       "<table border=\"1\" class=\"dataframe\">\n",
       "  <thead>\n",
       "    <tr style=\"text-align: right;\">\n",
       "      <th></th>\n",
       "      <th>Unnamed: 0</th>\n",
       "      <th>ID</th>\n",
       "      <th>Tweet</th>\n",
       "      <th>Timestamp</th>\n",
       "      <th>Likes</th>\n",
       "      <th>Retweets</th>\n",
       "      <th>Length</th>\n",
       "    </tr>\n",
       "  </thead>\n",
       "  <tbody>\n",
       "    <tr>\n",
       "      <th>13</th>\n",
       "      <td>13</td>\n",
       "      <td>1579448805833199616</td>\n",
       "      <td>كل عام وانتم بخير مسترمندوب   Mo11   مرسول    ...</td>\n",
       "      <td>2022-10-10 12:28:34+00:00</td>\n",
       "      <td>4</td>\n",
       "      <td>6</td>\n",
       "      <td>162</td>\n",
       "    </tr>\n",
       "    <tr>\n",
       "      <th>15</th>\n",
       "      <td>15</td>\n",
       "      <td>1579448604929839105</td>\n",
       "      <td>كل عام وانتم بخير مسترمندوب Ha7   مرسول   Ha7 ...</td>\n",
       "      <td>2022-10-10 12:27:46+00:00</td>\n",
       "      <td>3</td>\n",
       "      <td>2</td>\n",
       "      <td>105</td>\n",
       "    </tr>\n",
       "    <tr>\n",
       "      <th>24</th>\n",
       "      <td>24</td>\n",
       "      <td>1579447495436173312</td>\n",
       "      <td>w66  مرسول     جاهز      هنقرستيشن      ...</td>\n",
       "      <td>2022-10-10 12:23:22+00:00</td>\n",
       "      <td>0</td>\n",
       "      <td>0</td>\n",
       "      <td>135</td>\n",
       "    </tr>\n",
       "    <tr>\n",
       "      <th>25</th>\n",
       "      <td>25</td>\n",
       "      <td>1579447492789563392</td>\n",
       "      <td>لا تفوت كود تويو مثل هنقرستيشن يرجع 15 50 اول ...</td>\n",
       "      <td>2022-10-10 12:23:21+00:00</td>\n",
       "      <td>0</td>\n",
       "      <td>0</td>\n",
       "      <td>86</td>\n",
       "    </tr>\n",
       "    <tr>\n",
       "      <th>26</th>\n",
       "      <td>26</td>\n",
       "      <td>1579447262455169024</td>\n",
       "      <td>لا تفوت كود تويو مثل هنقرستيشن يرجع 15 50 اول ...</td>\n",
       "      <td>2022-10-10 12:22:26+00:00</td>\n",
       "      <td>0</td>\n",
       "      <td>0</td>\n",
       "      <td>86</td>\n",
       "    </tr>\n",
       "  </tbody>\n",
       "</table>\n",
       "</div>"
      ],
      "text/plain": [
       "    Unnamed: 0                   ID  \\\n",
       "13          13  1579448805833199616   \n",
       "15          15  1579448604929839105   \n",
       "24          24  1579447495436173312   \n",
       "25          25  1579447492789563392   \n",
       "26          26  1579447262455169024   \n",
       "\n",
       "                                                Tweet  \\\n",
       "13  كل عام وانتم بخير مسترمندوب   Mo11   مرسول    ...   \n",
       "15  كل عام وانتم بخير مسترمندوب Ha7   مرسول   Ha7 ...   \n",
       "24        w66  مرسول     جاهز      هنقرستيشن      ...   \n",
       "25  لا تفوت كود تويو مثل هنقرستيشن يرجع 15 50 اول ...   \n",
       "26  لا تفوت كود تويو مثل هنقرستيشن يرجع 15 50 اول ...   \n",
       "\n",
       "                    Timestamp  Likes  Retweets  Length  \n",
       "13  2022-10-10 12:28:34+00:00      4         6     162  \n",
       "15  2022-10-10 12:27:46+00:00      3         2     105  \n",
       "24  2022-10-10 12:23:22+00:00      0         0     135  \n",
       "25  2022-10-10 12:23:21+00:00      0         0      86  \n",
       "26  2022-10-10 12:22:26+00:00      0         0      86  "
      ]
     },
     "metadata": {},
     "output_type": "display_data"
    },
    {
     "name": "stdout",
     "output_type": "stream",
     "text": [
      "The number of duplicates is  5204\n"
     ]
    }
   ],
   "source": [
    "# To ensure that every duplicate will be removed we removed the duplicates After applyning all the cleaning\n",
    "\n",
    "# Assess the number of duplicates in dataset\n",
    "duplicateTweets = FileData[FileData.duplicated('Tweet')]\n",
    "\n",
    "display(duplicateTweets.head())\n",
    "print('The number of duplicates is ', len(duplicateTweets))"
   ]
  },
  {
   "cell_type": "code",
   "execution_count": 13,
   "id": "5b99f742-e056-40ee-8e40-e9c5e5a98431",
   "metadata": {},
   "outputs": [
    {
     "data": {
      "text/html": [
       "<div>\n",
       "<style scoped>\n",
       "    .dataframe tbody tr th:only-of-type {\n",
       "        vertical-align: middle;\n",
       "    }\n",
       "\n",
       "    .dataframe tbody tr th {\n",
       "        vertical-align: top;\n",
       "    }\n",
       "\n",
       "    .dataframe thead th {\n",
       "        text-align: right;\n",
       "    }\n",
       "</style>\n",
       "<table border=\"1\" class=\"dataframe\">\n",
       "  <thead>\n",
       "    <tr style=\"text-align: right;\">\n",
       "      <th></th>\n",
       "      <th>ID</th>\n",
       "      <th>Tweet</th>\n",
       "      <th>Timestamp</th>\n",
       "      <th>Likes</th>\n",
       "      <th>Retweets</th>\n",
       "      <th>Length</th>\n",
       "    </tr>\n",
       "  </thead>\n",
       "  <tbody>\n",
       "    <tr>\n",
       "      <th>0</th>\n",
       "      <td>1579452840237404161</td>\n",
       "      <td>وش رايك فيني و انا أضبطك مع هنقرستيشن   بيجي...</td>\n",
       "      <td>2022-10-10 12:44:36+00:00</td>\n",
       "      <td>0</td>\n",
       "      <td>0</td>\n",
       "      <td>165</td>\n",
       "    </tr>\n",
       "    <tr>\n",
       "      <th>1</th>\n",
       "      <td>1579452685044289536</td>\n",
       "      <td>OWn    مرسول      جاهز      هنقر...</td>\n",
       "      <td>2022-10-10 12:43:59+00:00</td>\n",
       "      <td>0</td>\n",
       "      <td>0</td>\n",
       "      <td>108</td>\n",
       "    </tr>\n",
       "    <tr>\n",
       "      <th>2</th>\n",
       "      <td>1579452455254777857</td>\n",
       "      <td>ادخل الاقي التوصيل ب9 ريال  مالقيت بدون سعر ...</td>\n",
       "      <td>2022-10-10 12:43:04+00:00</td>\n",
       "      <td>0</td>\n",
       "      <td>0</td>\n",
       "      <td>64</td>\n",
       "    </tr>\n",
       "    <tr>\n",
       "      <th>3</th>\n",
       "      <td>1579452331099566081</td>\n",
       "      <td>كل عام وانتم بخير مسترمندوب   OWn   مرسول    ج...</td>\n",
       "      <td>2022-10-10 12:42:35+00:00</td>\n",
       "      <td>0</td>\n",
       "      <td>0</td>\n",
       "      <td>89</td>\n",
       "    </tr>\n",
       "    <tr>\n",
       "      <th>4</th>\n",
       "      <td>1579450892356812801</td>\n",
       "      <td>مافيه رقم طلب فيه فلوس اخذتوها من حسابي</td>\n",
       "      <td>2022-10-10 12:36:52+00:00</td>\n",
       "      <td>0</td>\n",
       "      <td>0</td>\n",
       "      <td>54</td>\n",
       "    </tr>\n",
       "  </tbody>\n",
       "</table>\n",
       "</div>"
      ],
      "text/plain": [
       "                    ID                                              Tweet  \\\n",
       "0  1579452840237404161    وش رايك فيني و انا أضبطك مع هنقرستيشن   بيجي...   \n",
       "1  1579452685044289536                OWn    مرسول      جاهز      هنقر...   \n",
       "2  1579452455254777857    ادخل الاقي التوصيل ب9 ريال  مالقيت بدون سعر ...   \n",
       "3  1579452331099566081  كل عام وانتم بخير مسترمندوب   OWn   مرسول    ج...   \n",
       "4  1579450892356812801            مافيه رقم طلب فيه فلوس اخذتوها من حسابي   \n",
       "\n",
       "                   Timestamp  Likes  Retweets  Length  \n",
       "0  2022-10-10 12:44:36+00:00      0         0     165  \n",
       "1  2022-10-10 12:43:59+00:00      0         0     108  \n",
       "2  2022-10-10 12:43:04+00:00      0         0      64  \n",
       "3  2022-10-10 12:42:35+00:00      0         0      89  \n",
       "4  2022-10-10 12:36:52+00:00      0         0      54  "
      ]
     },
     "metadata": {},
     "output_type": "display_data"
    },
    {
     "data": {
      "text/html": [
       "<div>\n",
       "<style scoped>\n",
       "    .dataframe tbody tr th:only-of-type {\n",
       "        vertical-align: middle;\n",
       "    }\n",
       "\n",
       "    .dataframe tbody tr th {\n",
       "        vertical-align: top;\n",
       "    }\n",
       "\n",
       "    .dataframe thead th {\n",
       "        text-align: right;\n",
       "    }\n",
       "</style>\n",
       "<table border=\"1\" class=\"dataframe\">\n",
       "  <thead>\n",
       "    <tr style=\"text-align: right;\">\n",
       "      <th></th>\n",
       "      <th>ID</th>\n",
       "      <th>Tweet</th>\n",
       "      <th>Timestamp</th>\n",
       "      <th>Likes</th>\n",
       "      <th>Retweets</th>\n",
       "      <th>Length</th>\n",
       "    </tr>\n",
       "  </thead>\n",
       "  <tbody>\n",
       "    <tr>\n",
       "      <th>4791</th>\n",
       "      <td>1577676909361725440</td>\n",
       "      <td>كل لعبه تسحيب</td>\n",
       "      <td>2022-10-05 15:07:41+00:00</td>\n",
       "      <td>0</td>\n",
       "      <td>0</td>\n",
       "      <td>45</td>\n",
       "    </tr>\n",
       "    <tr>\n",
       "      <th>4792</th>\n",
       "      <td>1577676733758799877</td>\n",
       "      <td>هنقرستيشن اسوء شي</td>\n",
       "      <td>2022-10-05 15:06:59+00:00</td>\n",
       "      <td>0</td>\n",
       "      <td>0</td>\n",
       "      <td>17</td>\n",
       "    </tr>\n",
       "    <tr>\n",
       "      <th>4793</th>\n",
       "      <td>1577676699847761921</td>\n",
       "      <td>بالعكس والله التطبيق فوق الممتاز وخدمني كث...</td>\n",
       "      <td>2022-10-05 15:06:51+00:00</td>\n",
       "      <td>0</td>\n",
       "      <td>0</td>\n",
       "      <td>155</td>\n",
       "    </tr>\n",
       "    <tr>\n",
       "      <th>4794</th>\n",
       "      <td>1577676665664192515</td>\n",
       "      <td>اخيس تطبيق توصيل هنقرستيشن اسحبوا عليهم ...</td>\n",
       "      <td>2022-10-05 15:06:43+00:00</td>\n",
       "      <td>0</td>\n",
       "      <td>0</td>\n",
       "      <td>152</td>\n",
       "    </tr>\n",
       "    <tr>\n",
       "      <th>4795</th>\n",
       "      <td>1577676595506159619</td>\n",
       "      <td>تم يارب من نصيبي</td>\n",
       "      <td>2022-10-05 15:06:26+00:00</td>\n",
       "      <td>0</td>\n",
       "      <td>0</td>\n",
       "      <td>31</td>\n",
       "    </tr>\n",
       "  </tbody>\n",
       "</table>\n",
       "</div>"
      ],
      "text/plain": [
       "                       ID                                              Tweet  \\\n",
       "4791  1577676909361725440                                    كل لعبه تسحيب     \n",
       "4792  1577676733758799877                                  هنقرستيشن اسوء شي   \n",
       "4793  1577676699847761921      بالعكس والله التطبيق فوق الممتاز وخدمني كث...   \n",
       "4794  1577676665664192515        اخيس تطبيق توصيل هنقرستيشن اسحبوا عليهم ...   \n",
       "4795  1577676595506159619                                   تم يارب من نصيبي   \n",
       "\n",
       "                      Timestamp  Likes  Retweets  Length  \n",
       "4791  2022-10-05 15:07:41+00:00      0         0      45  \n",
       "4792  2022-10-05 15:06:59+00:00      0         0      17  \n",
       "4793  2022-10-05 15:06:51+00:00      0         0     155  \n",
       "4794  2022-10-05 15:06:43+00:00      0         0     152  \n",
       "4795  2022-10-05 15:06:26+00:00      0         0      31  "
      ]
     },
     "metadata": {},
     "output_type": "display_data"
    },
    {
     "name": "stdout",
     "output_type": "stream",
     "text": [
      "Length after removing duplicates 4796\n"
     ]
    }
   ],
   "source": [
    "# Remove duplicates from dataset\n",
    "\n",
    "Final_tweets = FileData.drop_duplicates('Tweet').reset_index(drop=True).drop(['Unnamed: 0'], axis=1)\n",
    "\n",
    "display(Final_tweets.head())\n",
    "display(Final_tweets.tail())\n",
    "print(\"Length after removing duplicates\", len(Final_tweets))\n"
   ]
  },
  {
   "cell_type": "code",
   "execution_count": 14,
   "id": "6632e6ba-f8ec-4758-bb1b-d302079a85c7",
   "metadata": {},
   "outputs": [],
   "source": [
    "# save the final_tweets to .csv file\n",
    "Final_tweets.to_csv('nnn.csv')"
   ]
  },
  {
   "cell_type": "code",
   "execution_count": null,
   "id": "28d0dd13-8161-4330-987c-c6b44ea77e82",
   "metadata": {},
   "outputs": [],
   "source": []
  }
 ],
 "metadata": {
  "colab": {
   "provenance": []
  },
  "kernelspec": {
   "display_name": "Python 3 (ipykernel)",
   "language": "python",
   "name": "python3"
  },
  "language_info": {
   "codemirror_mode": {
    "name": "ipython",
    "version": 3
   },
   "file_extension": ".py",
   "mimetype": "text/x-python",
   "name": "python",
   "nbconvert_exporter": "python",
   "pygments_lexer": "ipython3",
   "version": "3.9.12"
  }
 },
 "nbformat": 4,
 "nbformat_minor": 5
}
